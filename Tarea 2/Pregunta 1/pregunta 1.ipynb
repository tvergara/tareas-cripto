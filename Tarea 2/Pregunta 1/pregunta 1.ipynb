{
 "cells": [
  {
   "cell_type": "markdown",
   "id": "2891ed1f",
   "metadata": {},
   "source": [
    "# Davies Meyer\n",
    "Debemos retornar una función de hash que sea una función de compresión a partir de la contrucción de Davies-Meyer.\n",
    "\n",
    "Por ende, debemos obtener una llave y valor a partir del input, encryptar el valor con la llave, y posteriormente hacer un XOR entre la llave y el valor encriptado. Algo a notar, es que la construcción no requiere necesariamente que la llave y el mensaje sean del mismo tamaño, pero para el XOR se necesita tener que ambos sean del mismo tamaño. Por ende, se trunca al valor más pequeño entre ambos (en python eso se hace por default al usar `zip`)."
   ]
  },
  {
   "cell_type": "code",
   "execution_count": 1,
   "id": "ee4a70bb",
   "metadata": {},
   "outputs": [],
   "source": [
    "def davies_meyer(encrypt, l_key: int, l_message: int):\n",
    "    def hash(key_message):\n",
    "        key = bytes(key_message[:l_key]) # obtenemos la llave\n",
    "        message = bytes(key_message[l_key:l_key + l_message]) # obtenemos el valor\n",
    "        \n",
    "        encrypted_message = encrypt(key, message) # encriptamos\n",
    "        \n",
    "        hashed_message = bytearray(a ^ b for (a, b) in zip(encrypted_message, message)) # hacemos el XOR\n",
    "       \n",
    "        return hashed_message\n",
    "    return hash"
   ]
  },
  {
   "cell_type": "markdown",
   "id": "53426bbf",
   "metadata": {},
   "source": [
    "# Padding\n",
    "Debemos aplicar padding. Como visto en clases, se debe rellenar el último bloque con un 1 seguido de los suficientes 0 como para llegar a terminar el último bloque del mismo tamaño del resto. Posteriormente, se agrega un bloque final que indica el tamaño del mensaje original (módulo 2^(largo del bloque))."
   ]
  },
  {
   "cell_type": "code",
   "execution_count": 6,
   "id": "e4270771",
   "metadata": {},
   "outputs": [],
   "source": [
    "import math\n",
    "\n",
    "def pad(message: bytearray, l_block: int):\n",
    "    message_length = len(message)\n",
    "    n_blocks = math.ceil(message_length / l_block) # obtenemos cantidad de bloques originales\n",
    "    missing_bytes = n_blocks * l_block - message_length # obtenemos cuántos bytes faltan agregar\n",
    "    \n",
    "    added_bytes = bytearray()\n",
    "    if missing_bytes:\n",
    "        added_bytes += bytearray(b'\\x01') # primero un 1\n",
    "        added_bytes += bytearray(b'\\x00'*(missing_bytes - 1)) # rellenamos con 0\n",
    "    \n",
    "    coded_length = message_length % (2 ** l_block) # de acuerdo a las diapositivas de clases\n",
    "    last_block = bytearray(coded_length.to_bytes(l_block,'big'))\n",
    "    padded_message = message + added_bytes + last_block\n",
    "\n",
    "    return padded_message\n",
    "    "
   ]
  },
  {
   "cell_type": "markdown",
   "id": "2f1fc618",
   "metadata": {},
   "source": [
    "# Merke Damgard\n",
    "A partir de un vector de inicialización, dividimos el mensaje (con padding) en bloques, vamos bloque por bloque generando h_i. Se retorna el h final."
   ]
  },
  {
   "cell_type": "code",
   "execution_count": 3,
   "id": "6b4e137a",
   "metadata": {},
   "outputs": [],
   "source": [
    "def merkle_damgard(IV: bytearray, comp, l_block: int):\n",
    "    def hash(message):\n",
    "        padded_message = pad(message, l_block)\n",
    "        h = IV # inicialmente empieza el vector de inicialización\n",
    "        for i in range(0, len(padded_message), l_block):\n",
    "            block = padded_message[i: i + l_block] # obtenemos el siguiente bloque\n",
    "            h = comp(block + h) # calculamos el siguiente h\n",
    "        return h # retornamos el h final\n",
    "    return hash\n"
   ]
  },
  {
   "cell_type": "code",
   "execution_count": 4,
   "id": "18f61b08",
   "metadata": {},
   "outputs": [],
   "source": [
    "#from Crypto.Cipher import AES\n",
    "\n",
    "#def AES_128(key: bytearray, message: bytearray) -> bytearray:\n",
    "#    a = AES.new(key, AES.MODE_ECB)\n",
    "#    return bytearray(a.encrypt(message))"
   ]
  },
  {
   "cell_type": "code",
   "execution_count": 5,
   "id": "4fc10145",
   "metadata": {},
   "outputs": [],
   "source": [
    "#if __name__ == \"__main__\":\n",
    "#    compresion = davies_meyer(AES_128, 16, 16)\n",
    "#    hash = merkle_damgard(bytearray(b'1234567890123456'), compresion, 16)\n",
    "\n",
    "#    s1 = bytearray(b'Este es un mensaje de prueba para la tarea 2')\n",
    "#    s2 = bytearray(b'Este es un mensaje de Prueba para la tarea 2')\n",
    "#    s3 = bytearray(b'Un mensaje corto')\n",
    "#    s4 = bytearray(b'')\n",
    "\n",
    "#    h1 = hash(s1)\n",
    "#    h2 = hash(s2)\n",
    "#    h3 = hash(s3)\n",
    "#    h4 = hash(s4)\n",
    "\n",
    "#    print(h1)\n",
    "#    print(h2)\n",
    "#    print(h3)\n",
    "#    print(h4)\n"
   ]
  }
 ],
 "metadata": {
  "kernelspec": {
   "display_name": "Python 3 (ipykernel)",
   "language": "python",
   "name": "python3"
  },
  "language_info": {
   "codemirror_mode": {
    "name": "ipython",
    "version": 3
   },
   "file_extension": ".py",
   "mimetype": "text/x-python",
   "name": "python",
   "nbconvert_exporter": "python",
   "pygments_lexer": "ipython3",
   "version": "3.8.9"
  }
 },
 "nbformat": 4,
 "nbformat_minor": 5
}

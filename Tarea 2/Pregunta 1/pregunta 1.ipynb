{
 "cells": [
  {
   "cell_type": "code",
   "execution_count": 5,
   "id": "ee4a70bb",
   "metadata": {},
   "outputs": [],
   "source": [
    "def davies_meyer(encrypt, l_key, l_message):\n",
    "    def hash(key_message):\n",
    "        key = key_message[:l_key]\n",
    "        message = key_message[l_key:l_key + l_message]\n",
    "        \n",
    "        encrypted_message = encrypt(key, message)\n",
    "        hashed_message = bytes(a ^ b for (a, b) in zip(encrypted_message, key))\n",
    "        return hashed_message\n",
    "    return hash"
   ]
  },
  {
   "cell_type": "code",
   "execution_count": 6,
   "id": "92fcceeb",
   "metadata": {},
   "outputs": [
    {
     "data": {
      "text/plain": [
       "b'\\x18C\\x00C\\tA\\x11A\\x0cNO\\x19\\x17\\x01S\\x0c'"
      ]
     },
     "execution_count": 6,
     "metadata": {},
     "output_type": "execute_result"
    }
   ],
   "source": [
    "def identity(key, value):\n",
    "    return value\n",
    "\n",
    "comprension = davies_meyer(identity, 16, 16)\n",
    "key = b'aca hay un mensa'\n",
    "text = b'y aca hay otro m'\n",
    "\n",
    "value = comprension(key + text)\n",
    "value"
   ]
  },
  {
   "cell_type": "code",
   "execution_count": 76,
   "id": "e4270771",
   "metadata": {},
   "outputs": [],
   "source": [
    "import math\n",
    "\n",
    "def pad(message, l_block):\n",
    "    message_length = len(message)\n",
    "    n_blocks = math.ceil(message_length / l_block)\n",
    "    missing_bytes = n_blocks * l_block - message_length\n",
    "    \n",
    "    added_bytes = b''\n",
    "    if missing_bytes:\n",
    "        added_bytes += b'1'\n",
    "        added_bytes += b'0'*(missing_bytes - 1)\n",
    "    \n",
    "    coded_length = message_length % (2 ** l_block)\n",
    "    last_block = coded_length.to_bytes(l_block,'big')\n",
    "    padded_message = message + added_bytes + last_block\n",
    "\n",
    "    return padded_message\n",
    "    "
   ]
  },
  {
   "cell_type": "code",
   "execution_count": 78,
   "id": "d070aa67",
   "metadata": {},
   "outputs": [
    {
     "data": {
      "text/plain": [
       "b'asdfasdfdsafsaasdfa1000000000000\\x00\\x00\\x00\\x00\\x00\\x00\\x00\\x00\\x00\\x00\\x00\\x00\\x00\\x00\\x00\\x13'"
      ]
     },
     "execution_count": 78,
     "metadata": {},
     "output_type": "execute_result"
    }
   ],
   "source": [
    "pad(b'asdfasdfdsafsaasdfa', 16)"
   ]
  },
  {
   "cell_type": "code",
   "execution_count": 49,
   "id": "6b4e137a",
   "metadata": {},
   "outputs": [],
   "source": [
    "def merkle_damgard(IV, comp, l_block):\n",
    "    def hash(message):\n",
    "        padded_message = pad(message, l_block)\n",
    "        h = IV\n",
    "        for i in range(0, len(padded_message), l_block):\n",
    "            block = padded_message[i: i + l_block]\n",
    "            h = comp(h + block)\n",
    "        return h\n",
    "    return hash\n"
   ]
  },
  {
   "cell_type": "code",
   "execution_count": 50,
   "id": "f2640db0",
   "metadata": {},
   "outputs": [
    {
     "data": {
      "text/plain": [
       "b'2!!#61%8;7#%1dh'"
      ]
     },
     "execution_count": 50,
     "metadata": {},
     "output_type": "execute_result"
    }
   ],
   "source": [
    "comprension = davies_meyer(identity, 16, 16)\n",
    "hash = merkle_damgard(b'123456789012345', comprension, 16)\n",
    "h1 = hash(b'serasefasfasdfasdfasdfassdfasd')\n",
    "h1"
   ]
  }
 ],
 "metadata": {
  "kernelspec": {
   "display_name": "Python 3 (ipykernel)",
   "language": "python",
   "name": "python3"
  },
  "language_info": {
   "codemirror_mode": {
    "name": "ipython",
    "version": 3
   },
   "file_extension": ".py",
   "mimetype": "text/x-python",
   "name": "python",
   "nbconvert_exporter": "python",
   "pygments_lexer": "ipython3",
   "version": "3.8.9"
  }
 },
 "nbformat": 4,
 "nbformat_minor": 5
}

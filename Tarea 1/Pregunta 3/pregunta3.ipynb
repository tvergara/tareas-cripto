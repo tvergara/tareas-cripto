{
 "cells": [
  {
   "cell_type": "markdown",
   "id": "1f6af5eb",
   "metadata": {},
   "source": [
    "## Pregunta 3\n",
    "\n",
    "Primero, comenzamos definiendo la estructura de un nodo de un MerkleTree"
   ]
  },
  {
   "cell_type": "code",
   "execution_count": 50,
   "id": "7249e460",
   "metadata": {},
   "outputs": [],
   "source": [
    "from __future__ import annotations # esta librería es nativa en python, por eso no está en requirements.txt\n",
    "# sirve sólo para tipar de manera recursiva en una clase\n",
    "\n",
    "class Node:\n",
    "    def __init__(\n",
    "        self,\n",
    "        value: str,\n",
    "        left_node: Node = None,\n",
    "        right_node: Node = None,\n",
    "        parent: Node = None\n",
    "    ) -> Node:\n",
    "        self.value = value\n",
    "        self.left_node = left_node\n",
    "        self.right_node = right_node\n",
    "        self.parent = parent\n",
    "    \n",
    "    def shallow_copy(self): # función que retorna una copia del nodo\n",
    "        node = Node(self.value)\n",
    "        return node\n",
    "    \n",
    "    def get_proof_for(self, item: str) -> [(str, \"d\"|\"i\")]:\n",
    "        if self.value == item:\n",
    "            return []\n",
    "        \n",
    "        if self.left_node is None: # esto implica que no hay más hijos, por ende no encontramos el nodo\n",
    "            return None\n",
    "    \n",
    "        left_node_proof = self.left_node.get_proof_for(item)\n",
    "        if left_node_proof is not None: # encontramos al nodo!\n",
    "            current_level_proof = (self.right_node.value, \"d\") \n",
    "            left_node_proof.append(current_level_proof) # agregamos este nodo actual al path hecho\n",
    "            return left_node_proof # retornamos el path\n",
    "        \n",
    "        right_node_proof = self.right_node.get_proof_for(item)\n",
    "        if right_node_proof is not None:\n",
    "            current_level_proof = (self.left_node.value, \"i\")\n",
    "            right_node_proof.append(current_level_proof) # lo mismo que la izquierda\n",
    "            return right_node_proof\n",
    "        \n",
    "        return None # si no encontramos ni en el hijo izq, ni en el der, entonces no lo encontramos\n",
    "        \n"
   ]
  },
  {
   "cell_type": "markdown",
   "id": "392b954e",
   "metadata": {},
   "source": [
    "Con esto, creamos la clase MerkleTree, compuesta por nodos."
   ]
  },
  {
   "cell_type": "code",
   "execution_count": 42,
   "id": "27ba65e9",
   "metadata": {},
   "outputs": [],
   "source": [
    "class MerkleTree:\n",
    "    def __init__(self, strings: [str], hash_func: Callable[[str], str]) -> MerkleTree:\n",
    "        self.hash = hash_func\n",
    "        self.__build_tree(strings)\n",
    "        \n",
    "    def get_root(self) -> Node:\n",
    "        return self.root\n",
    "    \n",
    "    def get_proof_for(self, item: str) -> [(str, \"d\"|\"i\")]:\n",
    "        return self.root.get_proof_for(item) # pedimos al nodo de raíz que busque al nodo\n",
    "    \n",
    "    def __build_tree(self, strings):\n",
    "        nodes = self.__build_nodes(strings) # creamos las instancias de los nodos\n",
    "        while len(nodes) != 1: # si hay ún sólo nodo, entonces es la raíz y nada más que hacer\n",
    "            upper_level_nodes = []\n",
    "            \n",
    "            for i in range(0, len(nodes), 2):# vamos de a pares de nodos\n",
    "                left_node = nodes[i]\n",
    "                \n",
    "                try:\n",
    "                    right_node = nodes[i + 1]\n",
    "                except Exception: # prbablemente sería mejor rescatar el error específico\n",
    "                    right_node = nodes[i].shallow_copy() # duplicamos el nodo si es que es necesario\n",
    "                    \n",
    "                value = self.hash(left_node.value + right_node.value) # calculamos el hash de este nodo\n",
    "                node = Node(value, left_node=left_node, right_node=right_node) # creamos el nodo actual\n",
    "                left_node.parent = node # seteamos el padre de los hijos\n",
    "                right_node.parent = node\n",
    "                upper_level_nodes.append(node) # agregamos el nodo al nivel superior\n",
    "            nodes = upper_level_nodes\n",
    "        \n",
    "        self.root = nodes[0] # el último nodo es la raíz\n",
    "                   \n",
    "                \n",
    "        \n",
    "    def __build_nodes(self, strings):\n",
    "        nodes = [Node(string) for string in strings]\n",
    "        return nodes\n",
    "        \n",
    "        "
   ]
  },
  {
   "cell_type": "markdown",
   "id": "3dcf3a7b",
   "metadata": {},
   "source": [
    "Definimos la función verify de acuredo a esta implementación"
   ]
  },
  {
   "cell_type": "code",
   "execution_count": 54,
   "id": "8b061b25",
   "metadata": {},
   "outputs": [],
   "source": [
    "def verify(\n",
    "    root: string,\n",
    "    item: str,\n",
    "    proof: [(str, \"d\"|\"i\")],\n",
    "    hash_func: Callable[[str], str]\n",
    ") -> bool:\n",
    "    \n",
    "    buffer = item # vamos calculando los hashes en el buffer\n",
    "    for value, position in proof:\n",
    "        if position == \"i\":\n",
    "            buffer = hash_func(value + buffer)\n",
    "        else:\n",
    "            buffer = hash_func(buffer + value)\n",
    "    return buffer == root # si el buffer tiene el mismo hash que la raíz, entonces se comprueba la prueba"
   ]
  },
  {
   "cell_type": "markdown",
   "id": "bfa4d6ef",
   "metadata": {},
   "source": [
    "Las siguientes líneas están con el único propósito de testear las implementaciones"
   ]
  },
  {
   "cell_type": "code",
   "execution_count": 51,
   "id": "c37dbdc8",
   "metadata": {},
   "outputs": [
    {
     "data": {
      "text/plain": [
       "[('cc', 'i'), ('aaab', 'i'), ('aaaa', 'd')]"
      ]
     },
     "execution_count": 51,
     "metadata": {},
     "output_type": "execute_result"
    }
   ],
   "source": [
    "# def identity(string: str) -> str:\n",
    "#     return string\n",
    "\n",
    "# tree = MerkleTree(['aaa', 'b', 'cc', 'd', 'a'], identity)\n",
    "# tree.get_root().value\n",
    "\n",
    "# tree.get_proof_for('d')"
   ]
  },
  {
   "cell_type": "code",
   "execution_count": 58,
   "id": "eb533910",
   "metadata": {},
   "outputs": [
    {
     "data": {
      "text/plain": [
       "False"
      ]
     },
     "execution_count": 58,
     "metadata": {},
     "output_type": "execute_result"
    }
   ],
   "source": [
    "# def identity(string: str) -> str:\n",
    "#     return string\n",
    "\n",
    "# tree = MerkleTree(['aaa', 'b', 'cc', 'd', 'a'], identity)\n",
    "# tree.get_root().value\n",
    "\n",
    "# proof = tree.get_proof_for('d')\n",
    "\n",
    "# verify(tree.get_root().value, 'e', proof, tree.hash)"
   ]
  }
 ],
 "metadata": {
  "kernelspec": {
   "display_name": "Python 3 (ipykernel)",
   "language": "python",
   "name": "python3"
  },
  "language_info": {
   "codemirror_mode": {
    "name": "ipython",
    "version": 3
   },
   "file_extension": ".py",
   "mimetype": "text/x-python",
   "name": "python",
   "nbconvert_exporter": "python",
   "pygments_lexer": "ipython3",
   "version": "3.9.12"
  }
 },
 "nbformat": 4,
 "nbformat_minor": 5
}

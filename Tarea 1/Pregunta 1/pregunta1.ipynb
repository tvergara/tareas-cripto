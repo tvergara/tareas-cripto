{
 "cells": [
  {
   "cell_type": "markdown",
   "id": "82219a42",
   "metadata": {},
   "source": [
    "## Pregunta 1\n",
    "\n",
    "Primero, empiezo definiendo un mapeo de llaves a valores indistintamente. Honestamente no es necesario, ni tampoco una buena práctica probablemente, pero facilita un poco."
   ]
  },
  {
   "cell_type": "code",
   "execution_count": 2,
   "id": "09154044",
   "metadata": {},
   "outputs": [],
   "source": [
    "# https://stackoverflow.com/questions/1456373/two-way-reverse-map\n",
    "class TwoWayDict(dict):\n",
    "    def __setitem__(self, key, value):\n",
    "        if key in self:\n",
    "            del self[key]\n",
    "        if value in self:\n",
    "            del self[value]\n",
    "        dict.__setitem__(self, key, value)\n",
    "        dict.__setitem__(self, value, key)\n",
    "    def __len__(self):\n",
    "        \"\"\"Returns the number of connections\"\"\"\n",
    "        return dict.__len__(self) // 2"
   ]
  },
  {
   "cell_type": "markdown",
   "id": "dfdc6d2e",
   "metadata": {},
   "source": [
    "Ahora agregamos la definición de distancia entre una string y las frecuencias. Agarro la misma definición que en el enunciado."
   ]
  },
  {
   "cell_type": "code",
   "execution_count": 3,
   "id": "23e7aef4",
   "metadata": {},
   "outputs": [],
   "source": [
    "def abs_distance(string: str, frequencies: {str: float}) -> float:\n",
    "    return sum([\n",
    "        abs(frequencies[c] - string.count(c) / len(string))\n",
    "        for c in frequencies\n",
    "    ])"
   ]
  },
  {
   "cell_type": "markdown",
   "id": "3c5ca2dd",
   "metadata": {},
   "source": [
    "Es útil tener una manera de hacer un \"shift\" sobre una palabra, es decir, de incrementar todos los valores de la palabra según un valor."
   ]
  },
  {
   "cell_type": "code",
   "execution_count": 4,
   "id": "b89b1f18",
   "metadata": {},
   "outputs": [],
   "source": [
    "def shift_word(word: str, index: int, characters_index: TwoWayDict) -> str:\n",
    "    shifted_chars = []\n",
    "    \n",
    "    for char in word:\n",
    "        new_index = (index + characters_index[char]) % len(characters_index)\n",
    "        new_char = characters_index[new_index]\n",
    "        shifted_chars.append(new_char)\n",
    "\n",
    "    return ''.join(shifted_chars)"
   ]
  },
  {
   "cell_type": "markdown",
   "id": "81f9efe0",
   "metadata": {},
   "source": [
    "Dado una palabra, y un índice, es necesario notar cuál es el mejor shift para minimizar la distancia de la palabra al diccionario de frecuencias."
   ]
  },
  {
   "cell_type": "code",
   "execution_count": 5,
   "id": "64dcf56d",
   "metadata": {},
   "outputs": [],
   "source": [
    "from collections.abc import Callable\n",
    "\n",
    "def find_best_character_shift(\n",
    "    encrypted_string: str,\n",
    "    characters: list[str],\n",
    "    characters_index: TwoWayDict,\n",
    "    distance: Callable[[str, {str: float}], float],\n",
    "    frequencies: {str: float},\n",
    ") -> (str, float):\n",
    "    best_character = characters[0]\n",
    "    min_distance = len(encrypted_string)\n",
    "\n",
    "    for char in characters:\n",
    "        index = characters_index[char]\n",
    "        decrypted_string = shift_word(encrypted_string, index, characters_index)\n",
    "        char_distance = distance(decrypted_string, frequencies)\n",
    "        if char_distance < min_distance:\n",
    "            best_character = characters_index[(len(characters) - characters_index[char]) % len(characters)]\n",
    "            min_distance = char_distance\n",
    "    \n",
    "    return best_character, min_distance"
   ]
  },
  {
   "cell_type": "markdown",
   "id": "27bd2695",
   "metadata": {},
   "source": [
    "Con todo esto, podemos encontrar para cada largo de llave, y para cada índice, qué valores de shifts (llaves) minimizan la distancia."
   ]
  },
  {
   "cell_type": "code",
   "execution_count": 6,
   "id": "183e3974",
   "metadata": {},
   "outputs": [],
   "source": [
    "def break_rp(\n",
    "    ciphertext: str,\n",
    "    frequencies: {str: float},\n",
    "    distance: Callable[[str, {str: float}], float],\n",
    "    ) -> str:\n",
    "    \n",
    "    characters = sorted(frequencies.keys())\n",
    "    characters_index = TwoWayDict()\n",
    "    for i, char in enumerate(characters):  \n",
    "        characters_index[i] = char\n",
    "    \n",
    "    max_key_length = len(ciphertext) // 50\n",
    "    \n",
    "    best_distance = len(ciphertext)\n",
    "    best_key = None\n",
    "    for key_length in range(1, max_key_length + 1):\n",
    "        key_list = []\n",
    "        total_distance = 0\n",
    "        for position in range(key_length):\n",
    "            encrypted_substring = ciphertext[position::key_length]\n",
    "            best_character, min_distance = find_best_character_shift(\n",
    "                encrypted_substring,\n",
    "                characters,\n",
    "                characters_index,\n",
    "                distance,\n",
    "                frequencies,\n",
    "            )\n",
    "\n",
    "            key_list.append(best_character)\n",
    "            total_distance += min_distance\n",
    "\n",
    "        total_distance /= key_length\n",
    "        current_key = ''.join(key_list)\n",
    "        if total_distance < best_distance:\n",
    "            best_distance = total_distance\n",
    "            best_key = ''.join(key_list)\n",
    "    \n",
    "    return best_key"
   ]
  },
  {
   "cell_type": "markdown",
   "id": "0f930561",
   "metadata": {},
   "source": [
    "Las siguientes partes son únicamente con el propósito de testear que esté andando correctamente"
   ]
  },
  {
   "cell_type": "code",
   "execution_count": 9,
   "id": "87056c0e",
   "metadata": {},
   "outputs": [],
   "source": [
    "def encrypt_rp(text: str, key: str, frequencies: {str: float}) -> str:\n",
    "    characters = sorted(frequencies.keys())\n",
    "    characters_index = TwoWayDict()\n",
    "    for i, char in enumerate(characters):  \n",
    "        characters_index[i] = char\n",
    "    \n",
    "    buffer = \"\"\n",
    "    for i in range(len(text)):\n",
    "        char = text[i]\n",
    "        key_char = key[i % len(key)]\n",
    "        encrypted_index = (characters_index[char] + characters_index[key_char]) % len(characters)\n",
    "        buffer += characters_index[encrypted_index]\n",
    "    \n",
    "    return buffer\n",
    "        "
   ]
  },
  {
   "cell_type": "code",
   "execution_count": 10,
   "id": "44701f94",
   "metadata": {},
   "outputs": [],
   "source": [
    "def decrypt_rp(text: str, key: str, frequencies: {str: float}) -> str:\n",
    "    characters = sorted(frequencies.keys())\n",
    "    characters_index = TwoWayDict()\n",
    "    for i, char in enumerate(characters):  \n",
    "        characters_index[i] = char\n",
    "    \n",
    "    buffer = \"\"\n",
    "    for i in range(len(text)):\n",
    "        char = text[i]\n",
    "        key_char = key[i % len(key)]\n",
    "        encrypted_index = (characters_index[char] - characters_index[key_char] + len(characters)) % len(characters)\n",
    "        buffer += characters_index[encrypted_index]\n",
    "    \n",
    "    return buffer"
   ]
  },
  {
   "cell_type": "code",
   "execution_count": null,
   "id": "ac3fd300",
   "metadata": {},
   "outputs": [],
   "source": []
  }
 ],
 "metadata": {
  "kernelspec": {
   "display_name": "Python 3 (ipykernel)",
   "language": "python",
   "name": "python3"
  },
  "language_info": {
   "codemirror_mode": {
    "name": "ipython",
    "version": 3
   },
   "file_extension": ".py",
   "mimetype": "text/x-python",
   "name": "python",
   "nbconvert_exporter": "python",
   "pygments_lexer": "ipython3",
   "version": "3.9.12"
  }
 },
 "nbformat": 4,
 "nbformat_minor": 5
}

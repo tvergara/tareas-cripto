{
 "cells": [
  {
   "cell_type": "code",
   "execution_count": 50,
   "id": "7249e460",
   "metadata": {},
   "outputs": [],
   "source": [
    "from __future__ import annotations\n",
    "\n",
    "class Node:\n",
    "    def __init__(\n",
    "        self,\n",
    "        value: str,\n",
    "        left_node: Node = None,\n",
    "        right_node: Node = None,\n",
    "        parent: Node = None\n",
    "    ) -> Node:\n",
    "        self.value = value\n",
    "        self.left_node = left_node\n",
    "        self.right_node = right_node\n",
    "        self.parent = parent\n",
    "    \n",
    "    def shallow_copy(self):\n",
    "        node = Node(self.value)\n",
    "        return node\n",
    "    \n",
    "    def get_proof_for(self, item: str) -> [(str, \"d\"|\"i\")]:\n",
    "        if self.value == item:\n",
    "            return []\n",
    "        \n",
    "        if self.left_node is None:\n",
    "            return None\n",
    "    \n",
    "        left_node_proof = self.left_node.get_proof_for(item)\n",
    "        if left_node_proof is not None:\n",
    "            current_level_proof = (self.right_node.value, \"d\")\n",
    "            left_node_proof.append(current_level_proof)\n",
    "            return left_node_proof\n",
    "        \n",
    "        right_node_proof = self.right_node.get_proof_for(item)\n",
    "        if right_node_proof is not None:\n",
    "            current_level_proof = (self.left_node.value, \"i\")\n",
    "            right_node_proof.append(current_level_proof)\n",
    "            return right_node_proof\n",
    "        \n",
    "        return None\n",
    "        \n"
   ]
  },
  {
   "cell_type": "code",
   "execution_count": 42,
   "id": "27ba65e9",
   "metadata": {},
   "outputs": [],
   "source": [
    "class MerkleTree:\n",
    "    def __init__(self, strings: [str], hash_func: Callable[[str], str]) -> MerkleTree:\n",
    "        self.hash = hash_func\n",
    "        self.__build_tree(strings)\n",
    "        \n",
    "    def get_root(self) -> Node:\n",
    "        return self.root\n",
    "    \n",
    "    def get_proof_for(self, item: str) -> [(str, \"d\"|\"i\")]:\n",
    "        return self.root.get_proof_for(item)\n",
    "    \n",
    "    def __build_tree(self, strings):\n",
    "        nodes = self.__build_nodes(strings)\n",
    "        while len(nodes) != 1:\n",
    "            upper_level_nodes = []\n",
    "            \n",
    "            for i in range(0, len(nodes), 2):\n",
    "                left_node = nodes[i]\n",
    "                \n",
    "                try:\n",
    "                    right_node = nodes[i + 1]\n",
    "                except Exception:\n",
    "                    right_node = nodes[i].shallow_copy()\n",
    "                    \n",
    "                value = self.hash(left_node.value + right_node.value)\n",
    "                node = Node(value, left_node=left_node, right_node=right_node)\n",
    "                left_node.parent = node\n",
    "                right_node.parent = node\n",
    "                upper_level_nodes.append(node)\n",
    "            nodes = upper_level_nodes\n",
    "        \n",
    "        self.root = nodes[0]\n",
    "                   \n",
    "                \n",
    "        \n",
    "    def __build_nodes(self, strings):\n",
    "        nodes = [Node(string) for string in strings]\n",
    "        return nodes\n",
    "        \n",
    "        "
   ]
  },
  {
   "cell_type": "code",
   "execution_count": 51,
   "id": "c37dbdc8",
   "metadata": {},
   "outputs": [
    {
     "data": {
      "text/plain": [
       "[('cc', 'i'), ('aaab', 'i'), ('aaaa', 'd')]"
      ]
     },
     "execution_count": 51,
     "metadata": {},
     "output_type": "execute_result"
    }
   ],
   "source": [
    "def identity(string: str) -> str:\n",
    "    return string\n",
    "\n",
    "tree = MerkleTree(['aaa', 'b', 'cc', 'd', 'a'], identity)\n",
    "tree.get_root().value\n",
    "\n",
    "tree.get_proof_for('d')"
   ]
  },
  {
   "cell_type": "code",
   "execution_count": 54,
   "id": "8b061b25",
   "metadata": {},
   "outputs": [],
   "source": [
    "def verify(\n",
    "    root: string,\n",
    "    item: str,\n",
    "    proof: [(str, \"d\"|\"i\")],\n",
    "    hash_func: Callable[[str], str]\n",
    ") -> bool:\n",
    "    \n",
    "    buffer = item \n",
    "    for value, position in proof:\n",
    "        if position == \"i\":\n",
    "            buffer = hash_func(value + buffer)\n",
    "        else:\n",
    "            buffer = hash_func(buffer + value)\n",
    "    return buffer == root"
   ]
  },
  {
   "cell_type": "code",
   "execution_count": 58,
   "id": "eb533910",
   "metadata": {},
   "outputs": [
    {
     "data": {
      "text/plain": [
       "False"
      ]
     },
     "execution_count": 58,
     "metadata": {},
     "output_type": "execute_result"
    }
   ],
   "source": [
    "def identity(string: str) -> str:\n",
    "    return string\n",
    "\n",
    "tree = MerkleTree(['aaa', 'b', 'cc', 'd', 'a'], identity)\n",
    "tree.get_root().value\n",
    "\n",
    "proof = tree.get_proof_for('d')\n",
    "\n",
    "verify(tree.get_root().value, 'e', proof, tree.hash)"
   ]
  }
 ],
 "metadata": {
  "kernelspec": {
   "display_name": "Python 3 (ipykernel)",
   "language": "python",
   "name": "python3"
  },
  "language_info": {
   "codemirror_mode": {
    "name": "ipython",
    "version": 3
   },
   "file_extension": ".py",
   "mimetype": "text/x-python",
   "name": "python",
   "nbconvert_exporter": "python",
   "pygments_lexer": "ipython3",
   "version": "3.9.12"
  }
 },
 "nbformat": 4,
 "nbformat_minor": 5
}

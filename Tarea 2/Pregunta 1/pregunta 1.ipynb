{
 "cells": [
  {
   "cell_type": "markdown",
   "id": "2891ed1f",
   "metadata": {},
   "source": [
    "# Davies Meyer\n",
    "Debemos retornar una función de hash que sea una función de compresión a partir de la contrucción de Davies-Meyer.\n",
    "\n",
    "Por ende, debemos obtener una llave y valor a partir del input, encryptar el valor con la llave, y posteriormente hacer un XOR entre la llave y el valor encriptado. Algo a notar, es que la construcción no requiere necesariamente que la llave y el mensaje sean del mismo tamaño, pero para el XOR se necesita tener que ambos sean del mismo tamaño. Por ende, se trunca al valor más pequeño entre ambos (en python eso se hace por default al usar `zip`)."
   ]
  },
  {
   "cell_type": "code",
   "execution_count": 2,
   "id": "ee4a70bb",
   "metadata": {},
   "outputs": [],
   "source": [
    "def davies_meyer(encrypt, l_key: int, l_message: int):\n",
    "    def hash(key_message):\n",
    "        key = key_message[:l_key] # obtenemos la llave\n",
    "        message = key_message[l_key:l_key + l_message] # obtenemos el valor\n",
    "        \n",
    "        encrypted_message = encrypt(key, message) # encriptamos\n",
    "        hashed_message = bytearray(a ^ b for (a, b) in zip(encrypted_message, key)) # hacemos el XOR\n",
    "        return hashed_message\n",
    "    return hash"
   ]
  },
  {
   "cell_type": "code",
   "execution_count": 7,
   "id": "92fcceeb",
   "metadata": {},
   "outputs": [],
   "source": [
    "# TEST\n",
    "#def identity(key: bytearray, value: bytearray) -> bytearray:\n",
    "#    return value\n",
    "\n",
    "#comprension = davies_meyer(identity, 16, 16)\n",
    "#key = bytearray(b'aca hay un mensa')\n",
    "#text = bytearray(b'y aca hay otro m')\n",
    "\n",
    "#value = comprension(key + text)\n",
    "#value"
   ]
  },
  {
   "cell_type": "markdown",
   "id": "53426bbf",
   "metadata": {},
   "source": [
    "# Padding\n",
    "Debemos aplicar padding. Como visto en clases, se debe rellenar el último bloque con un 1 seguido de los suficientes 0 como para llegar a terminar el último bloque del mismo tamaño del resto. Posteriormente, se agrega un bloque final que indica el tamaño del mensaje original (módulo 2^(largo del bloque)). Algo a destacar, es que este bloque final podría estar en big o little endian. Arbitrariamente decidí que esté en big endian, dado que no estaba especificado en el enunciado."
   ]
  },
  {
   "cell_type": "code",
   "execution_count": 13,
   "id": "e4270771",
   "metadata": {},
   "outputs": [],
   "source": [
    "import math\n",
    "\n",
    "def pad(message: bytearray, l_block: int):\n",
    "    message_length = len(message)\n",
    "    n_blocks = math.ceil(message_length / l_block) # obtenemos cantidad de bloques originales\n",
    "    missing_bytes = n_blocks * l_block - message_length # obtenemos cuántos bytes faltan agregar\n",
    "    \n",
    "    added_bytes = bytearray()\n",
    "    if missing_bytes:\n",
    "        added_bytes += bytearray(b'1') # primero un 1\n",
    "        added_bytes += bytearray(b'0'*(missing_bytes - 1)) # rellenamos con 0\n",
    "    \n",
    "    coded_length = message_length % (2 ** l_block) # de acuerdo a las diapositivas de clases\n",
    "    last_block = bytearray(coded_length.to_bytes(l_block,'big')) # big endian elegido arbitrariamente\n",
    "    padded_message = message + added_bytes + last_block\n",
    "\n",
    "    return padded_message\n",
    "    "
   ]
  },
  {
   "cell_type": "code",
   "execution_count": 8,
   "id": "d070aa67",
   "metadata": {},
   "outputs": [],
   "source": [
    "# TEST\n",
    "#pad(bytearray(b'asdfasdfdsafsaasdfa'), 16)"
   ]
  },
  {
   "cell_type": "markdown",
   "id": "2f1fc618",
   "metadata": {},
   "source": [
    "# Merke Damgard\n",
    "A partir de un vector de inicialización, dividimos el mensaje (con padding) en bloques, vamos bloque por bloque generando h_i. Se retorna el h final."
   ]
  },
  {
   "cell_type": "code",
   "execution_count": 10,
   "id": "6b4e137a",
   "metadata": {},
   "outputs": [],
   "source": [
    "def merkle_damgard(IV: bytearray, comp, l_block: int):\n",
    "    def hash(message):\n",
    "        padded_message = pad(message, l_block)\n",
    "        h = IV # inicialmente empieza el vecotr de inicialización\n",
    "        for i in range(0, len(padded_message), l_block):\n",
    "            block = padded_message[i: i + l_block] # obtenemos el siguiente bloque\n",
    "            h = comp(h + block) # calculamos el siguiente h\n",
    "        return h # retornamos el h final\n",
    "    return hash\n"
   ]
  },
  {
   "cell_type": "code",
   "execution_count": 16,
   "id": "f2640db0",
   "metadata": {},
   "outputs": [],
   "source": [
    "# TEST\n",
    "# comprension = davies_meyer(identity, 16, 16)\n",
    "# hash = merkle_damgard(bytearray(b'0123456789012345'), comprension, 16)\n",
    "# h1 = hash(bytearray(b'serasefasfasdfasdfasdfassdfasd'))\n",
    "# h1"
   ]
  }
 ],
 "metadata": {
  "kernelspec": {
   "display_name": "Python 3 (ipykernel)",
   "language": "python",
   "name": "python3"
  },
  "language_info": {
   "codemirror_mode": {
    "name": "ipython",
    "version": 3
   },
   "file_extension": ".py",
   "mimetype": "text/x-python",
   "name": "python",
   "nbconvert_exporter": "python",
   "pygments_lexer": "ipython3",
   "version": "3.8.9"
  }
 },
 "nbformat": 4,
 "nbformat_minor": 5
}

{
 "cells": [
  {
   "cell_type": "code",
   "execution_count": 45,
   "id": "09154044",
   "metadata": {},
   "outputs": [],
   "source": [
    "# https://stackoverflow.com/questions/1456373/two-way-reverse-map\n",
    "class TwoWayDict(dict):\n",
    "    def __setitem__(self, key, value):\n",
    "        if key in self:\n",
    "            del self[key]\n",
    "        if value in self:\n",
    "            del self[value]\n",
    "        dict.__setitem__(self, key, value)\n",
    "        dict.__setitem__(self, value, key)\n",
    "    def __len__(self):\n",
    "        \"\"\"Returns the number of connections\"\"\"\n",
    "        return dict.__len__(self) // 2"
   ]
  },
  {
   "cell_type": "code",
   "execution_count": 46,
   "id": "23e7aef4",
   "metadata": {},
   "outputs": [],
   "source": [
    "def abs_distance(string: str, frequencies: {str: float}) -> float:\n",
    "    \n",
    "    return sum([\n",
    "        abs(frequencies[c] - string.count(c) / len(string))\n",
    "        for c in frequencies\n",
    "    ])"
   ]
  },
  {
   "cell_type": "code",
   "execution_count": 78,
   "id": "b89b1f18",
   "metadata": {},
   "outputs": [],
   "source": [
    "def shift_word(word: str, index: int, characters_index: TwoWayDict) -> str:\n",
    "    shifted_chars = []\n",
    "    \n",
    "    for char in word:\n",
    "        new_index = (index + characters_index[char]) % len(characters_index)\n",
    "        new_char = characters_index[new_index]\n",
    "        shifted_chars.append(new_char)\n",
    "\n",
    "    return ''.join(shifted_chars)"
   ]
  },
  {
   "cell_type": "code",
   "execution_count": 89,
   "id": "64dcf56d",
   "metadata": {},
   "outputs": [],
   "source": [
    "def find_best_character_shift(\n",
    "    encrypted_string: str,\n",
    "    characters: list[str],\n",
    "    characters_index: TwoWayDict,\n",
    "    distance: Callable[[str, {str: float}], float],\n",
    "    frequencies: {str: float},\n",
    ") -> (str, float):\n",
    "    best_character = characters[0]\n",
    "    min_distance = len(encrypted_string)\n",
    "\n",
    "    for char in characters:\n",
    "        index = characters_index[char]\n",
    "        decrypted_string = shift_word(encrypted_string, index, characters_index)\n",
    "        char_distance = distance(decrypted_string, frequencies)\n",
    "        if char_distance < min_distance:\n",
    "            best_character = char\n",
    "            min_distance = char_distance\n",
    "    \n",
    "    return best_character, min_distance"
   ]
  },
  {
   "cell_type": "code",
   "execution_count": 101,
   "id": "183e3974",
   "metadata": {},
   "outputs": [],
   "source": [
    "from collections.abc import Callable\n",
    "\n",
    "def break_rp(\n",
    "    ciphertext: str,\n",
    "    frequencies: {str: float},\n",
    "    distance: Callable[[str, {str: float}], float],\n",
    "    ) -> str:\n",
    "    \n",
    "    characters = sorted(frequencies.keys())\n",
    "    characters_index = TwoWayDict()\n",
    "    for i, char in enumerate(characters):  \n",
    "        characters_index[i] = char\n",
    "    \n",
    "    max_key_length = len(ciphertext) // 50\n",
    "    \n",
    "    best_distance = len(ciphertext)\n",
    "    best_key = None\n",
    "    for key_length in range(1, max_key_length + 1):\n",
    "        key_list = []\n",
    "        total_distance = 0\n",
    "        for position in range(key_length):\n",
    "            encrypted_substring = ciphertext[position::key_length]\n",
    "            best_character, min_distance = find_best_character_shift(\n",
    "                encrypted_substring,\n",
    "                characters,\n",
    "                characters_index,\n",
    "                distance,\n",
    "                frequencies,\n",
    "            )\n",
    "\n",
    "            key_list.append(best_character)\n",
    "            total_distance += min_distance\n",
    "\n",
    "        print('key length', key_length, total_distance)\n",
    "        if total_distance < best_distance:\n",
    "            best_distance = total_distance\n",
    "            best_key = ''.join(key_list)\n",
    "    \n",
    "    print(best_key)\n",
    "    print(best_distance)\n",
    "    \n",
    "    return best_key"
   ]
  },
  {
   "cell_type": "code",
   "execution_count": 103,
   "id": "58505bfc",
   "metadata": {},
   "outputs": [
    {
     "name": "stdout",
     "output_type": "stream",
     "text": [
      "key length 1 0.39999999999999997\n",
      "key length 2 0.7999999999999999\n",
      "d\n",
      "0.39999999999999997\n"
     ]
    },
    {
     "data": {
      "text/plain": [
       "'d'"
      ]
     },
     "execution_count": 103,
     "metadata": {},
     "output_type": "execute_result"
    }
   ],
   "source": [
    "break_rp('ssssssssssssssssssssssssssssssssssssssssssssssssssssssssssssssssssssssssssssssssssssssssssssssssssssssssssssssssss',\n",
    "         {'a': 0.8, 's': 0.05, 'd': 0.1, 'f': 0.05}, abs_distance)"
   ]
  },
  {
   "cell_type": "code",
   "execution_count": 79,
   "id": "657ec785",
   "metadata": {},
   "outputs": [
    {
     "data": {
      "text/plain": [
       "'bbbb'"
      ]
     },
     "execution_count": 79,
     "metadata": {},
     "output_type": "execute_result"
    }
   ],
   "source": [
    "\n",
    "characters = ['a', 'b']\n",
    "characters_index = TwoWayDict()\n",
    "characters_index[0] = 'a'\n",
    "characters_index[1] = 'b'\n",
    "shift_word('aaaa', 1, characters_index)"
   ]
  },
  {
   "cell_type": "code",
   "execution_count": null,
   "id": "87056c0e",
   "metadata": {},
   "outputs": [],
   "source": []
  }
 ],
 "metadata": {
  "kernelspec": {
   "display_name": "Python 3 (ipykernel)",
   "language": "python",
   "name": "python3"
  },
  "language_info": {
   "codemirror_mode": {
    "name": "ipython",
    "version": 3
   },
   "file_extension": ".py",
   "mimetype": "text/x-python",
   "name": "python",
   "nbconvert_exporter": "python",
   "pygments_lexer": "ipython3",
   "version": "3.9.12"
  }
 },
 "nbformat": 4,
 "nbformat_minor": 5
}
